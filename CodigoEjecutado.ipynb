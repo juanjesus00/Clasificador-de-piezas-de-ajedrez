{
 "cells": [
  {
   "cell_type": "code",
   "execution_count": 1,
   "id": "7a33846c",
   "metadata": {
    "_cell_guid": "b1076dfc-b9ad-4769-8c92-a6c4dae69d19",
    "_uuid": "8f2839f25d086af736a60e9eeb907d3b93b6e0e5",
    "execution": {
     "iopub.execute_input": "2022-12-15T09:58:29.321872Z",
     "iopub.status.busy": "2022-12-15T09:58:29.321291Z",
     "iopub.status.idle": "2022-12-15T09:58:37.416567Z",
     "shell.execute_reply": "2022-12-15T09:58:37.415858Z"
    },
    "papermill": {
     "duration": 8.114914,
     "end_time": "2022-12-15T09:58:37.419128",
     "exception": false,
     "start_time": "2022-12-15T09:58:29.304214",
     "status": "completed"
    },
    "tags": []
   },
   "outputs": [
    {
     "name": "stderr",
     "output_type": "stream",
     "text": [
      "2022-12-15 09:58:34.545163: I tensorflow/core/platform/cpu_feature_guard.cc:142] This TensorFlow binary is optimized with oneAPI Deep Neural Network Library (oneDNN) to use the following CPU instructions in performance-critical operations:  AVX2 AVX512F FMA\n",
      "To enable them in other operations, rebuild TensorFlow with the appropriate compiler flags.\n",
      "2022-12-15 09:58:34.613930: I tensorflow/stream_executor/cuda/cuda_gpu_executor.cc:937] successful NUMA node read from SysFS had negative value (-1), but there must be at least one NUMA node, so returning NUMA node zero\n",
      "2022-12-15 09:58:34.848004: I tensorflow/stream_executor/cuda/cuda_gpu_executor.cc:937] successful NUMA node read from SysFS had negative value (-1), but there must be at least one NUMA node, so returning NUMA node zero\n",
      "2022-12-15 09:58:34.848914: I tensorflow/stream_executor/cuda/cuda_gpu_executor.cc:937] successful NUMA node read from SysFS had negative value (-1), but there must be at least one NUMA node, so returning NUMA node zero\n",
      "2022-12-15 09:58:37.396606: I tensorflow/stream_executor/cuda/cuda_gpu_executor.cc:937] successful NUMA node read from SysFS had negative value (-1), but there must be at least one NUMA node, so returning NUMA node zero\n",
      "2022-12-15 09:58:37.397543: I tensorflow/stream_executor/cuda/cuda_gpu_executor.cc:937] successful NUMA node read from SysFS had negative value (-1), but there must be at least one NUMA node, so returning NUMA node zero\n",
      "2022-12-15 09:58:37.398306: I tensorflow/stream_executor/cuda/cuda_gpu_executor.cc:937] successful NUMA node read from SysFS had negative value (-1), but there must be at least one NUMA node, so returning NUMA node zero\n",
      "2022-12-15 09:58:37.399651: I tensorflow/core/common_runtime/gpu/gpu_device.cc:1510] Created device /device:GPU:0 with 15403 MB memory:  -> device: 0, name: Tesla P100-PCIE-16GB, pci bus id: 0000:00:04.0, compute capability: 6.0\n"
     ]
    },
    {
     "data": {
      "text/plain": [
       "'/device:GPU:0'"
      ]
     },
     "execution_count": 1,
     "metadata": {},
     "output_type": "execute_result"
    }
   ],
   "source": [
    "\n",
    "import tensorflow\n",
    "tensorflow.test.gpu_device_name()"
   ]
  },
  {
   "cell_type": "code",
   "execution_count": 2,
   "id": "073e363f",
   "metadata": {
    "execution": {
     "iopub.execute_input": "2022-12-15T09:58:37.448395Z",
     "iopub.status.busy": "2022-12-15T09:58:37.448126Z",
     "iopub.status.idle": "2022-12-15T09:58:37.838553Z",
     "shell.execute_reply": "2022-12-15T09:58:37.835244Z"
    },
    "papermill": {
     "duration": 0.410818,
     "end_time": "2022-12-15T09:58:37.843617",
     "exception": false,
     "start_time": "2022-12-15T09:58:37.432799",
     "status": "completed"
    },
    "tags": []
   },
   "outputs": [
    {
     "data": {
      "text/plain": [
       "<matplotlib.image.AxesImage at 0x7f9ff8174d10>"
      ]
     },
     "execution_count": 2,
     "metadata": {},
     "output_type": "execute_result"
    },
    {
     "data": {
      "image/png": "[encoded data removed]",
      "text/plain": [
       "<Figure size 432x288 with 1 Axes>"
      ]
     },
     "metadata": {
      "needs_background": "light"
     },
     "output_type": "display_data"
    }
   ],
   "source": [
    "from matplotlib.pyplot import imshow\n",
    "import numpy as np\n",
    "from PIL import Image\n",
    "\n",
    "%matplotlib inline\n",
    "pil_im = Image.open('../input/datasetches2/DataSet-Chess/Entrenamiento/Bishop/00000001.jpg', 'r')\n",
    "\n",
    "\n",
    "imshow(np.asarray(pil_im))"
   ]
  },
  {
   "cell_type": "code",
   "execution_count": 3,
   "id": "d9e4d009",
   "metadata": {
    "_cell_guid": "b1076dfc-b9ad-4769-8c92-a6c4dae69d19",
    "_uuid": "8f2839f25d086af736a60e9eeb907d3b93b6e0e5",
    "execution": {
     "iopub.execute_input": "2022-12-15T09:58:37.880146Z",
     "iopub.status.busy": "2022-12-15T09:58:37.879867Z",
     "iopub.status.idle": "2022-12-15T09:58:38.871605Z",
     "shell.execute_reply": "2022-12-15T09:58:38.870792Z"
    },
    "papermill": {
     "duration": 1.010196,
     "end_time": "2022-12-15T09:58:38.874204",
     "exception": false,
     "start_time": "2022-12-15T09:58:37.864008",
     "status": "completed"
    },
    "tags": []
   },
   "outputs": [],
   "source": [
    "\n",
    "from tensorflow.keras import backend as K\n",
    "from time import time\n",
    "\n",
    "# DATA SOURCE --------------------------------------------------\n",
    "train_data_dir = '../input/datasetches2/DataSet-Chess/Entrenamiento'\n",
    "validation_data_dir = '../input/datasetches2/DataSet-Chess/Validacion'\n",
    "test_data_dir = '../input/datasetches2/DataSet-Chess/Test'\n",
    "image_size = (150, 150)\n",
    "batch_size = 32"
   ]
  },
  {
   "cell_type": "code",
   "execution_count": 4,
   "id": "f7c982b4",
   "metadata": {
    "execution": {
     "iopub.execute_input": "2022-12-15T09:58:38.904881Z",
     "iopub.status.busy": "2022-12-15T09:58:38.904628Z",
     "iopub.status.idle": "2022-12-15T09:58:39.686919Z",
     "shell.execute_reply": "2022-12-15T09:58:39.686172Z"
    },
    "papermill": {
     "duration": 0.800283,
     "end_time": "2022-12-15T09:58:39.689342",
     "exception": false,
     "start_time": "2022-12-15T09:58:38.889059",
     "status": "completed"
    },
    "tags": []
   },
   "outputs": [
    {
     "name": "stdout",
     "output_type": "stream",
     "text": [
      "Found 689 files belonging to 6 classes.\n"
     ]
    },
    {
     "name": "stderr",
     "output_type": "stream",
     "text": [
      "2022-12-15 09:58:39.017372: I tensorflow/stream_executor/cuda/cuda_gpu_executor.cc:937] successful NUMA node read from SysFS had negative value (-1), but there must be at least one NUMA node, so returning NUMA node zero\n",
      "2022-12-15 09:58:39.018454: I tensorflow/stream_executor/cuda/cuda_gpu_executor.cc:937] successful NUMA node read from SysFS had negative value (-1), but there must be at least one NUMA node, so returning NUMA node zero\n",
      "2022-12-15 09:58:39.019179: I tensorflow/stream_executor/cuda/cuda_gpu_executor.cc:937] successful NUMA node read from SysFS had negative value (-1), but there must be at least one NUMA node, so returning NUMA node zero\n",
      "2022-12-15 09:58:39.020111: I tensorflow/stream_executor/cuda/cuda_gpu_executor.cc:937] successful NUMA node read from SysFS had negative value (-1), but there must be at least one NUMA node, so returning NUMA node zero\n",
      "2022-12-15 09:58:39.020770: I tensorflow/stream_executor/cuda/cuda_gpu_executor.cc:937] successful NUMA node read from SysFS had negative value (-1), but there must be at least one NUMA node, so returning NUMA node zero\n",
      "2022-12-15 09:58:39.021384: I tensorflow/stream_executor/cuda/cuda_gpu_executor.cc:937] successful NUMA node read from SysFS had negative value (-1), but there must be at least one NUMA node, so returning NUMA node zero\n",
      "2022-12-15 09:58:39.022101: I tensorflow/stream_executor/cuda/cuda_gpu_executor.cc:937] successful NUMA node read from SysFS had negative value (-1), but there must be at least one NUMA node, so returning NUMA node zero\n",
      "2022-12-15 09:58:39.022772: I tensorflow/stream_executor/cuda/cuda_gpu_executor.cc:937] successful NUMA node read from SysFS had negative value (-1), but there must be at least one NUMA node, so returning NUMA node zero\n",
      "2022-12-15 09:58:39.023348: I tensorflow/core/common_runtime/gpu/gpu_device.cc:1510] Created device /job:localhost/replica:0/task:0/device:GPU:0 with 15403 MB memory:  -> device: 0, name: Tesla P100-PCIE-16GB, pci bus id: 0000:00:04.0, compute capability: 6.0\n"
     ]
    },
    {
     "name": "stdout",
     "output_type": "stream",
     "text": [
      "Found 499 files belonging to 6 classes.\n",
      "Found 226 files belonging to 6 classes.\n"
     ]
    }
   ],
   "source": [
    "train_ds = tensorflow.keras.preprocessing.image_dataset_from_directory(\n",
    "    train_data_dir,\n",
    "    #validation_split=0.2,\n",
    "    #subset=\"training\",\n",
    "    #seed=1337,\n",
    "    image_size=image_size,\n",
    "    batch_size=batch_size,\n",
    "    label_mode='categorical'\n",
    ")\n",
    "\n",
    "validation_ds = tensorflow.keras.preprocessing.image_dataset_from_directory(\n",
    "    validation_data_dir,\n",
    "    #validation_split=0.2,\n",
    "    #subset=\"validation\",\n",
    "    #seed=1337,\n",
    "    image_size=image_size,\n",
    "    batch_size=batch_size,\n",
    "    label_mode='categorical'\n",
    ")\n",
    "\n",
    "test_ds = tensorflow.keras.preprocessing.image_dataset_from_directory(\n",
    "    test_data_dir,\n",
    "    #validation_split=0.2,\n",
    "    #subset=\"validation\",\n",
    "    #seed=1337,\n",
    "    image_size=image_size,\n",
    "    batch_size=batch_size,\n",
    "    label_mode='categorical'\n",
    ")\n",
    "\n",
    "train_ds = train_ds.prefetch(buffer_size=32)\n",
    "validation_ds = validation_ds.prefetch(buffer_size=32)\n",
    "test_ds = test_ds.prefetch(buffer_size=32)"
   ]
  },
  {
   "cell_type": "markdown",
   "id": "b73e55d3",
   "metadata": {
    "papermill": {
     "duration": 0.015394,
     "end_time": "2022-12-15T09:58:39.721271",
     "exception": false,
     "start_time": "2022-12-15T09:58:39.705877",
     "status": "completed"
    },
    "tags": []
   },
   "source": [
    "# **Image Augmentation**"
   ]
  },
  {
   "cell_type": "code",
   "execution_count": 5,
   "id": "68d7031c",
   "metadata": {
    "execution": {
     "iopub.execute_input": "2022-12-15T09:58:39.754547Z",
     "iopub.status.busy": "2022-12-15T09:58:39.753807Z",
     "iopub.status.idle": "2022-12-15T09:58:39.758221Z",
     "shell.execute_reply": "2022-12-15T09:58:39.757350Z"
    },
    "papermill": {
     "duration": 0.023151,
     "end_time": "2022-12-15T09:58:39.760100",
     "exception": false,
     "start_time": "2022-12-15T09:58:39.736949",
     "status": "completed"
    },
    "tags": []
   },
   "outputs": [],
   "source": [
    "#from tensorflow.keras.preprocessing.image import ImageDataGenerator\n",
    "\n",
    "#train_datagen = ImageDataGenerator(\n",
    "#        rescale=1./255,\n",
    "#        rotation_range=15,\n",
    "#        zoom_range=0.1\n",
    "#)\n",
    "\n",
    "#validation_datagen = ImageDataGenerator(\n",
    "#        rescale=1./255\n",
    "#)\n",
    "\n",
    "\n",
    "#train_ds_augmentation = train_datagen.flow_from_directory(\n",
    "#    train_data_dir,\n",
    "#    #validation_split=0.2,\n",
    "#    #subset=\"training\",\n",
    "#    #seed=1337,\n",
    "#    target_size=image_size,\n",
    "#    batch_size=batch_size,\n",
    "#    class_mode='categorical'\n",
    "#)\n",
    "\n",
    "#validation_ds_augmentation = validation_datagen.flow_from_directory(\n",
    "#    validation_data_dir,\n",
    "#    #validation_split=0.2,\n",
    "#    #subset=\"validation\",\n",
    "#    #seed=1337,\n",
    "#    target_size=image_size,\n",
    "#    batch_size=batch_size,\n",
    "#    class_mode='categorical'\n",
    "#)\n",
    "\n"
   ]
  },
  {
   "cell_type": "markdown",
   "id": "56a9c33e",
   "metadata": {
    "papermill": {
     "duration": 0.015585,
     "end_time": "2022-12-15T09:58:39.791448",
     "exception": false,
     "start_time": "2022-12-15T09:58:39.775863",
     "status": "completed"
    },
    "tags": []
   },
   "source": [
    "# **The Model**"
   ]
  },
  {
   "cell_type": "code",
   "execution_count": 6,
   "id": "03d46ae8",
   "metadata": {
    "_cell_guid": "b1076dfc-b9ad-4769-8c92-a6c4dae69d19",
    "_uuid": "8f2839f25d086af736a60e9eeb907d3b93b6e0e5",
    "execution": {
     "iopub.execute_input": "2022-12-15T09:58:39.826974Z",
     "iopub.status.busy": "2022-12-15T09:58:39.826253Z",
     "iopub.status.idle": "2022-12-15T09:58:39.979696Z",
     "shell.execute_reply": "2022-12-15T09:58:39.978149Z"
    },
    "papermill": {
     "duration": 0.176089,
     "end_time": "2022-12-15T09:58:39.985436",
     "exception": false,
     "start_time": "2022-12-15T09:58:39.809347",
     "status": "completed"
    },
    "tags": []
   },
   "outputs": [
    {
     "name": "stdout",
     "output_type": "stream",
     "text": [
      "Model: \"sequential\"\n",
      "_________________________________________________________________\n",
      "Layer (type)                 Output Shape              Param #   \n",
      "=================================================================\n",
      "rescaling (Rescaling)        (None, 150, 150, 3)       0         \n",
      "_________________________________________________________________\n",
      "conv2d (Conv2D)              (None, 148, 148, 32)      896       \n",
      "_________________________________________________________________\n",
      "max_pooling2d (MaxPooling2D) (None, 74, 74, 32)        0         \n",
      "_________________________________________________________________\n",
      "conv2d_1 (Conv2D)            (None, 72, 72, 64)        18496     \n",
      "_________________________________________________________________\n",
      "max_pooling2d_1 (MaxPooling2 (None, 36, 36, 64)        0         \n",
      "_________________________________________________________________\n",
      "dropout (Dropout)            (None, 36, 36, 64)        0         \n",
      "_________________________________________________________________\n",
      "conv2d_2 (Conv2D)            (None, 34, 34, 128)       73856     \n",
      "_________________________________________________________________\n",
      "max_pooling2d_2 (MaxPooling2 (None, 17, 17, 128)       0         \n",
      "_________________________________________________________________\n",
      "dropout_1 (Dropout)          (None, 17, 17, 128)       0         \n",
      "_________________________________________________________________\n",
      "conv2d_3 (Conv2D)            (None, 15, 15, 128)       147584    \n",
      "_________________________________________________________________\n",
      "max_pooling2d_3 (MaxPooling2 (None, 7, 7, 128)         0         \n",
      "_________________________________________________________________\n",
      "dropout_2 (Dropout)          (None, 7, 7, 128)         0         \n",
      "_________________________________________________________________\n",
      "flatten (Flatten)            (None, 6272)              0         \n",
      "_________________________________________________________________\n",
      "dense (Dense)                (None, 256)               1605888   \n",
      "_________________________________________________________________\n",
      "dropout_3 (Dropout)          (None, 256)               0         \n",
      "_________________________________________________________________\n",
      "dense_1 (Dense)              (None, 128)               32896     \n",
      "_________________________________________________________________\n",
      "dropout_4 (Dropout)          (None, 128)               0         \n",
      "_________________________________________________________________\n",
      "dense_2 (Dense)              (None, 6)                 774       \n",
      "=================================================================\n",
      "Total params: 1,880,390\n",
      "Trainable params: 1,880,390\n",
      "Non-trainable params: 0\n",
      "_________________________________________________________________\n"
     ]
    }
   ],
   "source": [
    "from tensorflow.keras.models import Sequential\n",
    "from tensorflow.keras.layers import Dense, Dropout, Flatten, Conv2D, MaxPooling2D, Rescaling                    \n",
    "\n",
    "# MODEL --------------------------------------------------\n",
    "\n",
    "model = Sequential()\n",
    "model.add(Rescaling(scale=(1./127.5),offset=-1, input_shape=(150, 150, 3)))\n",
    "\n",
    "#model.add(Conv2D(16, kernel_size=(3, 3), activation='relu'))\n",
    "#model.add(MaxPooling2D(pool_size=(2, 2)))\n",
    "\n",
    "model.add(Conv2D(32, kernel_size=(3, 3), activation='relu'))\n",
    "model.add(MaxPooling2D(pool_size=(2, 2)))\n",
    "\n",
    "model.add(Conv2D(64, kernel_size=(3, 3), activation='relu'))\n",
    "model.add(MaxPooling2D(pool_size=(2, 2)))\n",
    "model.add(Dropout(0.25))\n",
    "\n",
    "model.add(Conv2D(128, (3, 3), activation='relu'))\n",
    "model.add(MaxPooling2D(pool_size=(2, 2)))\n",
    "model.add(Dropout(0.25))\n",
    "\n",
    "model.add(Conv2D(128, (3, 3), activation='relu'))\n",
    "model.add(MaxPooling2D(pool_size=(2, 2)))\n",
    "model.add(Dropout(0.25))\n",
    "\n",
    "model.add(Flatten())\n",
    "model.add(Dense(256, activation='relu'))\n",
    "model.add(Dropout(0.5))\n",
    "\n",
    "model.add(Dense(128, activation='relu'))\n",
    "model.add(Dropout(0.5))\n",
    "\n",
    "model.add(Dense(6, activation='softmax'))\n",
    "\n",
    "model.summary()"
   ]
  },
  {
   "cell_type": "code",
   "execution_count": 7,
   "id": "b1f326f3",
   "metadata": {
    "_cell_guid": "b1076dfc-b9ad-4769-8c92-a6c4dae69d19",
    "_uuid": "8f2839f25d086af736a60e9eeb907d3b93b6e0e5",
    "execution": {
     "iopub.execute_input": "2022-12-15T09:58:40.020482Z",
     "iopub.status.busy": "2022-12-15T09:58:40.020215Z",
     "iopub.status.idle": "2022-12-15T09:58:40.032798Z",
     "shell.execute_reply": "2022-12-15T09:58:40.032118Z"
    },
    "papermill": {
     "duration": 0.031841,
     "end_time": "2022-12-15T09:58:40.034562",
     "exception": false,
     "start_time": "2022-12-15T09:58:40.002721",
     "status": "completed"
    },
    "tags": []
   },
   "outputs": [],
   "source": [
    "model.compile(loss=tensorflow.keras.losses.categorical_crossentropy,\n",
    "              optimizer=tensorflow.keras.optimizers.Adam(1e-3),\n",
    "              metrics=['accuracy'])"
   ]
  },
  {
   "cell_type": "code",
   "execution_count": 8,
   "id": "9ff910f9",
   "metadata": {
    "_cell_guid": "b1076dfc-b9ad-4769-8c92-a6c4dae69d19",
    "_uuid": "8f2839f25d086af736a60e9eeb907d3b93b6e0e5",
    "execution": {
     "iopub.execute_input": "2022-12-15T09:58:40.068308Z",
     "iopub.status.busy": "2022-12-15T09:58:40.067555Z",
     "iopub.status.idle": "2022-12-15T10:00:52.673934Z",
     "shell.execute_reply": "2022-12-15T10:00:52.672411Z"
    },
    "papermill": {
     "duration": 132.62577,
     "end_time": "2022-12-15T10:00:52.676444",
     "exception": false,
     "start_time": "2022-12-15T09:58:40.050674",
     "status": "completed"
    },
    "tags": []
   },
   "outputs": [
    {
     "name": "stdout",
     "output_type": "stream",
     "text": [
      "Epoch 1/300\n"
     ]
    },
    {
     "name": "stderr",
     "output_type": "stream",
     "text": [
      "2022-12-15 09:58:40.636518: I tensorflow/compiler/mlir/mlir_graph_optimization_pass.cc:185] None of the MLIR Optimization Passes are enabled (registered 2)\n",
      "Cleanup called...\n",
      "2022-12-15 09:58:42.676256: I tensorflow/stream_executor/cuda/cuda_dnn.cc:369] Loaded cuDNN version 8005\n"
     ]
    },
    {
     "name": "stdout",
     "output_type": "stream",
     "text": [
      "22/22 [==============================] - 11s 102ms/step - loss: 1.8284 - accuracy: 0.2134 - val_loss: 1.7866 - val_accuracy: 0.1804\n",
      "Epoch 2/300\n",
      " 6/22 [=======>......................] - ETA: 1s - loss: 1.7874 - accuracy: 0.1927"
     ]
    },
    {
     "name": "stderr",
     "output_type": "stream",
     "text": [
      "Cleanup called...\n"
     ]
    },
    {
     "name": "stdout",
     "output_type": "stream",
     "text": [
      "22/22 [==============================] - 2s 91ms/step - loss: 1.7835 - accuracy: 0.2061 - val_loss: 1.7826 - val_accuracy: 0.2485\n",
      "Epoch 3/300\n",
      " 7/22 [========>.....................] - ETA: 0s - loss: 1.7918 - accuracy: 0.1830"
     ]
    },
    {
     "name": "stderr",
     "output_type": "stream",
     "text": [
      "Cleanup called...\n"
     ]
    },
    {
     "name": "stdout",
     "output_type": "stream",
     "text": [
      "22/22 [==============================] - 2s 64ms/step - loss: 1.7886 - accuracy: 0.1800 - val_loss: 1.7814 - val_accuracy: 0.2244\n",
      "Epoch 4/300\n",
      " 7/22 [========>.....................] - ETA: 0s - loss: 1.7849 - accuracy: 0.1741"
     ]
    },
    {
     "name": "stderr",
     "output_type": "stream",
     "text": [
      "Cleanup called...\n"
     ]
    },
    {
     "name": "stdout",
     "output_type": "stream",
     "text": [
      "22/22 [==============================] - 2s 66ms/step - loss: 1.7836 - accuracy: 0.1945 - val_loss: 1.7699 - val_accuracy: 0.2224\n",
      "Epoch 5/300\n",
      " 6/22 [=======>......................] - ETA: 0s - loss: 1.7771 - accuracy: 0.2240"
     ]
    },
    {
     "name": "stderr",
     "output_type": "stream",
     "text": [
      "Cleanup called...\n"
     ]
    },
    {
     "name": "stdout",
     "output_type": "stream",
     "text": [
      "22/22 [==============================] - 2s 63ms/step - loss: 1.7668 - accuracy: 0.2250 - val_loss: 1.7422 - val_accuracy: 0.2224\n",
      "Epoch 6/300\n",
      " 7/22 [========>.....................] - ETA: 0s - loss: 1.7642 - accuracy: 0.2545"
     ]
    },
    {
     "name": "stderr",
     "output_type": "stream",
     "text": [
      "Cleanup called...\n"
     ]
    },
    {
     "name": "stdout",
     "output_type": "stream",
     "text": [
      "22/22 [==============================] - 2s 66ms/step - loss: 1.7463 - accuracy: 0.2642 - val_loss: 1.7352 - val_accuracy: 0.2585\n",
      "Epoch 7/300\n",
      " 7/22 [========>.....................] - ETA: 0s - loss: 1.7138 - accuracy: 0.2589"
     ]
    },
    {
     "name": "stderr",
     "output_type": "stream",
     "text": [
      "Cleanup called...\n"
     ]
    },
    {
     "name": "stdout",
     "output_type": "stream",
     "text": [
      "22/22 [==============================] - 2s 91ms/step - loss: 1.7158 - accuracy: 0.2525 - val_loss: 1.6471 - val_accuracy: 0.3487\n",
      "Epoch 8/300\n",
      " 7/22 [========>.....................] - ETA: 0s - loss: 1.6648 - accuracy: 0.2991"
     ]
    },
    {
     "name": "stderr",
     "output_type": "stream",
     "text": [
      "Cleanup called...\n"
     ]
    },
    {
     "name": "stdout",
     "output_type": "stream",
     "text": [
      "22/22 [==============================] - 2s 62ms/step - loss: 1.6473 - accuracy: 0.3135 - val_loss: 1.5426 - val_accuracy: 0.4048\n",
      "Epoch 9/300\n",
      " 7/22 [========>.....................] - ETA: 0s - loss: 1.5815 - accuracy: 0.3482"
     ]
    },
    {
     "name": "stderr",
     "output_type": "stream",
     "text": [
      "Cleanup called...\n"
     ]
    },
    {
     "name": "stdout",
     "output_type": "stream",
     "text": [
      "22/22 [==============================] - 2s 63ms/step - loss: 1.5392 - accuracy: 0.3657 - val_loss: 1.3826 - val_accuracy: 0.4830\n",
      "Epoch 10/300\n",
      " 7/22 [========>.....................] - ETA: 0s - loss: 1.5804 - accuracy: 0.3527"
     ]
    },
    {
     "name": "stderr",
     "output_type": "stream",
     "text": [
      "Cleanup called...\n"
     ]
    },
    {
     "name": "stdout",
     "output_type": "stream",
     "text": [
      "22/22 [==============================] - 2s 65ms/step - loss: 1.4957 - accuracy: 0.3919 - val_loss: 1.3442 - val_accuracy: 0.5050\n",
      "Epoch 11/300\n",
      " 6/22 [=======>......................] - ETA: 0s - loss: 1.4514 - accuracy: 0.4375"
     ]
    },
    {
     "name": "stderr",
     "output_type": "stream",
     "text": [
      "Cleanup called...\n"
     ]
    },
    {
     "name": "stdout",
     "output_type": "stream",
     "text": [
      "22/22 [==============================] - 2s 64ms/step - loss: 1.3994 - accuracy: 0.4485 - val_loss: 1.2635 - val_accuracy: 0.5631\n",
      "Epoch 12/300\n",
      " 6/22 [=======>......................] - ETA: 0s - loss: 1.3597 - accuracy: 0.4271"
     ]
    },
    {
     "name": "stderr",
     "output_type": "stream",
     "text": [
      "Cleanup called...\n"
     ]
    },
    {
     "name": "stdout",
     "output_type": "stream",
     "text": [
      "22/22 [==============================] - 2s 66ms/step - loss: 1.3125 - accuracy: 0.4731 - val_loss: 1.1002 - val_accuracy: 0.5992\n",
      "Epoch 13/300\n",
      " 7/22 [========>.....................] - ETA: 0s - loss: 1.3101 - accuracy: 0.4688"
     ]
    },
    {
     "name": "stderr",
     "output_type": "stream",
     "text": [
      "Cleanup called...\n"
     ]
    },
    {
     "name": "stdout",
     "output_type": "stream",
     "text": [
      "22/22 [==============================] - 2s 65ms/step - loss: 1.2692 - accuracy: 0.5152 - val_loss: 1.0718 - val_accuracy: 0.6172\n",
      "Epoch 14/300\n",
      " 7/22 [========>.....................] - ETA: 0s - loss: 1.1735 - accuracy: 0.5357"
     ]
    },
    {
     "name": "stderr",
     "output_type": "stream",
     "text": [
      "Cleanup called...\n"
     ]
    },
    {
     "name": "stdout",
     "output_type": "stream",
     "text": [
      "22/22 [==============================] - 2s 65ms/step - loss: 1.1885 - accuracy: 0.5269 - val_loss: 0.9977 - val_accuracy: 0.6934\n",
      "Epoch 15/300\n",
      " 7/22 [========>.....................] - ETA: 0s - loss: 1.1090 - accuracy: 0.6071"
     ]
    },
    {
     "name": "stderr",
     "output_type": "stream",
     "text": [
      "Cleanup called...\n"
     ]
    },
    {
     "name": "stdout",
     "output_type": "stream",
     "text": [
      "22/22 [==============================] - 2s 64ms/step - loss: 1.0999 - accuracy: 0.5646 - val_loss: 0.8672 - val_accuracy: 0.7275\n",
      "Epoch 16/300\n",
      " 7/22 [========>.....................] - ETA: 0s - loss: 1.0026 - accuracy: 0.6741"
     ]
    },
    {
     "name": "stderr",
     "output_type": "stream",
     "text": [
      "Cleanup called...\n"
     ]
    },
    {
     "name": "stdout",
     "output_type": "stream",
     "text": [
      "22/22 [==============================] - 2s 82ms/step - loss: 1.0148 - accuracy: 0.6502 - val_loss: 0.8160 - val_accuracy: 0.7295\n",
      "Epoch 17/300\n",
      " 7/22 [========>.....................] - ETA: 0s - loss: 0.9513 - accuracy: 0.6652"
     ]
    },
    {
     "name": "stderr",
     "output_type": "stream",
     "text": [
      "Cleanup called...\n"
     ]
    },
    {
     "name": "stdout",
     "output_type": "stream",
     "text": [
      "22/22 [==============================] - 2s 64ms/step - loss: 0.9898 - accuracy: 0.6560 - val_loss: 0.7582 - val_accuracy: 0.7535\n",
      "Epoch 18/300\n",
      " 6/22 [=======>......................] - ETA: 1s - loss: 0.8938 - accuracy: 0.6615"
     ]
    },
    {
     "name": "stderr",
     "output_type": "stream",
     "text": [
      "Cleanup called...\n"
     ]
    },
    {
     "name": "stdout",
     "output_type": "stream",
     "text": [
      "22/22 [==============================] - 2s 75ms/step - loss: 0.8737 - accuracy: 0.6821 - val_loss: 0.6521 - val_accuracy: 0.8056\n",
      "Epoch 19/300\n",
      " 7/22 [========>.....................] - ETA: 0s - loss: 0.8086 - accuracy: 0.6830"
     ]
    },
    {
     "name": "stderr",
     "output_type": "stream",
     "text": [
      "Cleanup called...\n"
     ]
    },
    {
     "name": "stdout",
     "output_type": "stream",
     "text": [
      "22/22 [==============================] - 2s 64ms/step - loss: 0.8046 - accuracy: 0.6952 - val_loss: 0.6301 - val_accuracy: 0.7856\n",
      "Epoch 20/300\n",
      " 7/22 [========>.....................] - ETA: 0s - loss: 0.8046 - accuracy: 0.6830"
     ]
    },
    {
     "name": "stderr",
     "output_type": "stream",
     "text": [
      "Cleanup called...\n"
     ]
    },
    {
     "name": "stdout",
     "output_type": "stream",
     "text": [
      "22/22 [==============================] - 2s 68ms/step - loss: 0.7555 - accuracy: 0.7083 - val_loss: 0.5199 - val_accuracy: 0.8377\n",
      "Epoch 21/300\n",
      " 7/22 [========>.....................] - ETA: 0s - loss: 0.7397 - accuracy: 0.7321"
     ]
    },
    {
     "name": "stderr",
     "output_type": "stream",
     "text": [
      "Cleanup called...\n"
     ]
    },
    {
     "name": "stdout",
     "output_type": "stream",
     "text": [
      "22/22 [==============================] - 2s 65ms/step - loss: 0.6937 - accuracy: 0.7431 - val_loss: 0.4458 - val_accuracy: 0.8798\n",
      "Epoch 22/300\n",
      " 7/22 [========>.....................] - ETA: 0s - loss: 0.5325 - accuracy: 0.7857"
     ]
    },
    {
     "name": "stderr",
     "output_type": "stream",
     "text": [
      "Cleanup called...\n"
     ]
    },
    {
     "name": "stdout",
     "output_type": "stream",
     "text": [
      "22/22 [==============================] - 2s 64ms/step - loss: 0.5871 - accuracy: 0.7808 - val_loss: 0.4310 - val_accuracy: 0.8737\n",
      "Epoch 23/300\n",
      " 7/22 [========>.....................] - ETA: 0s - loss: 0.6327 - accuracy: 0.7589"
     ]
    },
    {
     "name": "stderr",
     "output_type": "stream",
     "text": [
      "Cleanup called...\n"
     ]
    },
    {
     "name": "stdout",
     "output_type": "stream",
     "text": [
      "22/22 [==============================] - 2s 69ms/step - loss: 0.6189 - accuracy: 0.7794 - val_loss: 0.3947 - val_accuracy: 0.8818\n",
      "Epoch 24/300\n",
      " 7/22 [========>.....................] - ETA: 0s - loss: 0.6055 - accuracy: 0.7589"
     ]
    },
    {
     "name": "stderr",
     "output_type": "stream",
     "text": [
      "Cleanup called...\n"
     ]
    },
    {
     "name": "stdout",
     "output_type": "stream",
     "text": [
      "22/22 [==============================] - 2s 67ms/step - loss: 0.5744 - accuracy: 0.7910 - val_loss: 0.3522 - val_accuracy: 0.9078\n",
      "Epoch 25/300\n",
      " 7/22 [========>.....................] - ETA: 0s - loss: 0.4269 - accuracy: 0.8482"
     ]
    },
    {
     "name": "stderr",
     "output_type": "stream",
     "text": [
      "Cleanup called...\n"
     ]
    },
    {
     "name": "stdout",
     "output_type": "stream",
     "text": [
      "22/22 [==============================] - 2s 63ms/step - loss: 0.5131 - accuracy: 0.8128 - val_loss: 0.3246 - val_accuracy: 0.9018\n",
      "Epoch 26/300\n",
      " 7/22 [========>.....................] - ETA: 0s - loss: 0.5093 - accuracy: 0.8170"
     ]
    },
    {
     "name": "stderr",
     "output_type": "stream",
     "text": [
      "Cleanup called...\n"
     ]
    },
    {
     "name": "stdout",
     "output_type": "stream",
     "text": [
      "22/22 [==============================] - 2s 66ms/step - loss: 0.4767 - accuracy: 0.8273 - val_loss: 0.3141 - val_accuracy: 0.9038\n",
      "Epoch 27/300\n",
      " 6/22 [=======>......................] - ETA: 0s - loss: 0.3789 - accuracy: 0.8542"
     ]
    },
    {
     "name": "stderr",
     "output_type": "stream",
     "text": [
      "Cleanup called...\n"
     ]
    },
    {
     "name": "stdout",
     "output_type": "stream",
     "text": [
      "22/22 [==============================] - 2s 63ms/step - loss: 0.4517 - accuracy: 0.8549 - val_loss: 0.2762 - val_accuracy: 0.9178\n",
      "Epoch 28/300\n",
      " 7/22 [========>.....................] - ETA: 0s - loss: 0.4641 - accuracy: 0.8125"
     ]
    },
    {
     "name": "stderr",
     "output_type": "stream",
     "text": [
      "Cleanup called...\n"
     ]
    },
    {
     "name": "stdout",
     "output_type": "stream",
     "text": [
      "22/22 [==============================] - 2s 67ms/step - loss: 0.3732 - accuracy: 0.8607 - val_loss: 0.2486 - val_accuracy: 0.9419\n",
      "Epoch 29/300\n",
      " 7/22 [========>.....................] - ETA: 0s - loss: 0.4933 - accuracy: 0.8348"
     ]
    },
    {
     "name": "stderr",
     "output_type": "stream",
     "text": [
      "Cleanup called...\n"
     ]
    },
    {
     "name": "stdout",
     "output_type": "stream",
     "text": [
      "22/22 [==============================] - 2s 63ms/step - loss: 0.3911 - accuracy: 0.8810 - val_loss: 0.2388 - val_accuracy: 0.9319\n",
      "Epoch 30/300\n",
      " 7/22 [========>.....................] - ETA: 0s - loss: 0.3683 - accuracy: 0.8661"
     ]
    },
    {
     "name": "stderr",
     "output_type": "stream",
     "text": [
      "Cleanup called...\n"
     ]
    },
    {
     "name": "stdout",
     "output_type": "stream",
     "text": [
      "22/22 [==============================] - 2s 62ms/step - loss: 0.3908 - accuracy: 0.8621 - val_loss: 0.2385 - val_accuracy: 0.9439\n",
      "Epoch 31/300\n",
      " 6/22 [=======>......................] - ETA: 0s - loss: 0.3620 - accuracy: 0.8854"
     ]
    },
    {
     "name": "stderr",
     "output_type": "stream",
     "text": [
      "Cleanup called...\n"
     ]
    },
    {
     "name": "stdout",
     "output_type": "stream",
     "text": [
      "22/22 [==============================] - 2s 78ms/step - loss: 0.3658 - accuracy: 0.8737 - val_loss: 0.2521 - val_accuracy: 0.9299\n",
      "Epoch 32/300\n",
      " 6/22 [=======>......................] - ETA: 0s - loss: 0.3598 - accuracy: 0.8594"
     ]
    },
    {
     "name": "stderr",
     "output_type": "stream",
     "text": [
      "Cleanup called...\n"
     ]
    },
    {
     "name": "stdout",
     "output_type": "stream",
     "text": [
      "22/22 [==============================] - 2s 65ms/step - loss: 0.3217 - accuracy: 0.8897 - val_loss: 0.2360 - val_accuracy: 0.9319\n",
      "Epoch 33/300\n",
      " 6/22 [=======>......................] - ETA: 0s - loss: 0.2895 - accuracy: 0.9062"
     ]
    },
    {
     "name": "stderr",
     "output_type": "stream",
     "text": [
      "Cleanup called...\n"
     ]
    },
    {
     "name": "stdout",
     "output_type": "stream",
     "text": [
      "22/22 [==============================] - 2s 74ms/step - loss: 0.2741 - accuracy: 0.9086 - val_loss: 0.1877 - val_accuracy: 0.9579\n",
      "Epoch 34/300\n",
      " 7/22 [========>.....................] - ETA: 0s - loss: 0.2397 - accuracy: 0.9107"
     ]
    },
    {
     "name": "stderr",
     "output_type": "stream",
     "text": [
      "Cleanup called...\n"
     ]
    },
    {
     "name": "stdout",
     "output_type": "stream",
     "text": [
      "22/22 [==============================] - 2s 66ms/step - loss: 0.2567 - accuracy: 0.8999 - val_loss: 0.1865 - val_accuracy: 0.9539\n",
      "Epoch 35/300\n",
      " 7/22 [========>.....................] - ETA: 0s - loss: 0.2483 - accuracy: 0.9018"
     ]
    },
    {
     "name": "stderr",
     "output_type": "stream",
     "text": [
      "Cleanup called...\n"
     ]
    },
    {
     "name": "stdout",
     "output_type": "stream",
     "text": [
      "22/22 [==============================] - 2s 64ms/step - loss: 0.2390 - accuracy: 0.9202 - val_loss: 0.1647 - val_accuracy: 0.9639\n",
      "Epoch 36/300\n",
      " 7/22 [========>.....................] - ETA: 0s - loss: 0.1404 - accuracy: 0.9420"
     ]
    },
    {
     "name": "stderr",
     "output_type": "stream",
     "text": [
      "Cleanup called...\n"
     ]
    },
    {
     "name": "stdout",
     "output_type": "stream",
     "text": [
      "22/22 [==============================] - 2s 63ms/step - loss: 0.1670 - accuracy: 0.9434 - val_loss: 0.1700 - val_accuracy: 0.9579\n",
      "Epoch 37/300\n",
      " 7/22 [========>.....................] - ETA: 0s - loss: 0.3171 - accuracy: 0.9107"
     ]
    },
    {
     "name": "stderr",
     "output_type": "stream",
     "text": [
      "Cleanup called...\n"
     ]
    },
    {
     "name": "stdout",
     "output_type": "stream",
     "text": [
      "22/22 [==============================] - 2s 64ms/step - loss: 0.3053 - accuracy: 0.9086 - val_loss: 0.2038 - val_accuracy: 0.9639\n",
      "Epoch 38/300\n",
      " 7/22 [========>.....................] - ETA: 0s - loss: 0.1928 - accuracy: 0.9286"
     ]
    },
    {
     "name": "stderr",
     "output_type": "stream",
     "text": [
      "Cleanup called...\n"
     ]
    },
    {
     "name": "stdout",
     "output_type": "stream",
     "text": [
      "22/22 [==============================] - 2s 63ms/step - loss: 0.1958 - accuracy: 0.9361 - val_loss: 0.1930 - val_accuracy: 0.9659\n",
      "Epoch 39/300\n",
      " 5/22 [=====>........................] - ETA: 1s - loss: 0.2172 - accuracy: 0.9250"
     ]
    },
    {
     "name": "stderr",
     "output_type": "stream",
     "text": [
      "Cleanup called...\n"
     ]
    },
    {
     "name": "stdout",
     "output_type": "stream",
     "text": [
      "22/22 [==============================] - 2s 79ms/step - loss: 0.2114 - accuracy: 0.9332 - val_loss: 0.1832 - val_accuracy: 0.9579\n",
      "Epoch 40/300\n",
      " 7/22 [========>.....................] - ETA: 0s - loss: 0.2242 - accuracy: 0.9330"
     ]
    },
    {
     "name": "stderr",
     "output_type": "stream",
     "text": [
      "Cleanup called...\n"
     ]
    },
    {
     "name": "stdout",
     "output_type": "stream",
     "text": [
      "22/22 [==============================] - 2s 65ms/step - loss: 0.2001 - accuracy: 0.9274 - val_loss: 0.1776 - val_accuracy: 0.9579\n",
      "Epoch 41/300\n",
      " 6/22 [=======>......................] - ETA: 0s - loss: 0.1248 - accuracy: 0.9583"
     ]
    },
    {
     "name": "stderr",
     "output_type": "stream",
     "text": [
      "Cleanup called...\n"
     ]
    },
    {
     "name": "stdout",
     "output_type": "stream",
     "text": [
      "22/22 [==============================] - 2s 64ms/step - loss: 0.1104 - accuracy: 0.9652 - val_loss: 0.1907 - val_accuracy: 0.9579\n",
      "Epoch 42/300\n",
      " 6/22 [=======>......................] - ETA: 0s - loss: 0.1039 - accuracy: 0.9688"
     ]
    },
    {
     "name": "stderr",
     "output_type": "stream",
     "text": [
      "Cleanup called...\n"
     ]
    },
    {
     "name": "stdout",
     "output_type": "stream",
     "text": [
      "22/22 [==============================] - 2s 63ms/step - loss: 0.1482 - accuracy: 0.9623 - val_loss: 0.1973 - val_accuracy: 0.9679\n",
      "Epoch 43/300\n",
      " 6/22 [=======>......................] - ETA: 0s - loss: 0.2624 - accuracy: 0.9427"
     ]
    },
    {
     "name": "stderr",
     "output_type": "stream",
     "text": [
      "Cleanup called...\n"
     ]
    },
    {
     "name": "stdout",
     "output_type": "stream",
     "text": [
      "22/22 [==============================] - 2s 63ms/step - loss: 0.1855 - accuracy: 0.9405 - val_loss: 0.1841 - val_accuracy: 0.9639\n",
      "Epoch 44/300\n",
      " 7/22 [========>.....................] - ETA: 0s - loss: 0.0993 - accuracy: 0.9643"
     ]
    },
    {
     "name": "stderr",
     "output_type": "stream",
     "text": [
      "Cleanup called...\n"
     ]
    },
    {
     "name": "stdout",
     "output_type": "stream",
     "text": [
      "22/22 [==============================] - 2s 71ms/step - loss: 0.1435 - accuracy: 0.9594 - val_loss: 0.2021 - val_accuracy: 0.9719\n",
      "Epoch 45/300\n",
      " 6/22 [=======>......................] - ETA: 0s - loss: 0.1315 - accuracy: 0.9583"
     ]
    },
    {
     "name": "stderr",
     "output_type": "stream",
     "text": [
      "Cleanup called...\n"
     ]
    },
    {
     "name": "stdout",
     "output_type": "stream",
     "text": [
      "22/22 [==============================] - 2s 61ms/step - loss: 0.1866 - accuracy: 0.9478 - val_loss: 0.1570 - val_accuracy: 0.9619\n",
      "Epoch 46/300\n",
      " 7/22 [========>.....................] - ETA: 0s - loss: 0.1602 - accuracy: 0.9554"
     ]
    },
    {
     "name": "stderr",
     "output_type": "stream",
     "text": [
      "Cleanup called...\n"
     ]
    },
    {
     "name": "stdout",
     "output_type": "stream",
     "text": [
      "22/22 [==============================] - 2s 79ms/step - loss: 0.1871 - accuracy: 0.9405 - val_loss: 0.1723 - val_accuracy: 0.9659\n",
      "Epoch 47/300\n",
      " 6/22 [=======>......................] - ETA: 0s - loss: 0.2643 - accuracy: 0.9219"
     ]
    },
    {
     "name": "stderr",
     "output_type": "stream",
     "text": [
      "Cleanup called...\n"
     ]
    },
    {
     "name": "stdout",
     "output_type": "stream",
     "text": [
      "22/22 [==============================] - 2s 61ms/step - loss: 0.2417 - accuracy: 0.9260 - val_loss: 0.2117 - val_accuracy: 0.9519\n",
      "Epoch 48/300\n",
      " 6/22 [=======>......................] - ETA: 0s - loss: 0.2470 - accuracy: 0.9479"
     ]
    },
    {
     "name": "stderr",
     "output_type": "stream",
     "text": [
      "Cleanup called...\n"
     ]
    },
    {
     "name": "stdout",
     "output_type": "stream",
     "text": [
      "22/22 [==============================] - 2s 63ms/step - loss: 0.1727 - accuracy: 0.9478 - val_loss: 0.1920 - val_accuracy: 0.9659\n",
      "Epoch 49/300\n",
      " 7/22 [========>.....................] - ETA: 0s - loss: 0.1852 - accuracy: 0.9375"
     ]
    },
    {
     "name": "stderr",
     "output_type": "stream",
     "text": [
      "Cleanup called...\n"
     ]
    },
    {
     "name": "stdout",
     "output_type": "stream",
     "text": [
      "22/22 [==============================] - 2s 76ms/step - loss: 0.1320 - accuracy: 0.9521 - val_loss: 0.1914 - val_accuracy: 0.9659\n",
      "Epoch 50/300\n",
      " 7/22 [========>.....................] - ETA: 0s - loss: 0.1407 - accuracy: 0.9554"
     ]
    },
    {
     "name": "stderr",
     "output_type": "stream",
     "text": [
      "Cleanup called...\n"
     ]
    },
    {
     "name": "stdout",
     "output_type": "stream",
     "text": [
      "22/22 [==============================] - 2s 65ms/step - loss: 0.1392 - accuracy: 0.9579 - val_loss: 0.1935 - val_accuracy: 0.9659\n",
      "Epoch 51/300\n",
      " 7/22 [========>.....................] - ETA: 0s - loss: 0.1394 - accuracy: 0.9688"
     ]
    },
    {
     "name": "stderr",
     "output_type": "stream",
     "text": [
      "Cleanup called...\n"
     ]
    },
    {
     "name": "stdout",
     "output_type": "stream",
     "text": [
      "22/22 [==============================] - 2s 65ms/step - loss: 0.1288 - accuracy: 0.9652 - val_loss: 0.1887 - val_accuracy: 0.9679\n",
      "Epoch 52/300\n",
      " 7/22 [========>.....................] - ETA: 0s - loss: 0.1418 - accuracy: 0.9598"
     ]
    },
    {
     "name": "stderr",
     "output_type": "stream",
     "text": [
      "Cleanup called...\n"
     ]
    },
    {
     "name": "stdout",
     "output_type": "stream",
     "text": [
      "22/22 [==============================] - 2s 68ms/step - loss: 0.2182 - accuracy: 0.9361 - val_loss: 0.1877 - val_accuracy: 0.9659\n",
      "Epoch 53/300\n",
      " 6/22 [=======>......................] - ETA: 0s - loss: 0.0836 - accuracy: 0.9635"
     ]
    },
    {
     "name": "stderr",
     "output_type": "stream",
     "text": [
      "Cleanup called...\n"
     ]
    },
    {
     "name": "stdout",
     "output_type": "stream",
     "text": [
      "22/22 [==============================] - 2s 64ms/step - loss: 0.0991 - accuracy: 0.9681 - val_loss: 0.1677 - val_accuracy: 0.9699\n",
      "Epoch 54/300\n",
      " 7/22 [========>.....................] - ETA: 0s - loss: 0.1083 - accuracy: 0.9732"
     ]
    },
    {
     "name": "stderr",
     "output_type": "stream",
     "text": [
      "Cleanup called...\n"
     ]
    },
    {
     "name": "stdout",
     "output_type": "stream",
     "text": [
      "22/22 [==============================] - 2s 67ms/step - loss: 0.0898 - accuracy: 0.9768 - val_loss: 0.1651 - val_accuracy: 0.9679\n",
      "Restoring model weights from the end of the best epoch.\n",
      "Epoch 00054: early stopping\n"
     ]
    }
   ],
   "source": [
    "# TRAINING --------------------------------------------------\n",
    "from tensorflow.keras.callbacks import EarlyStopping\n",
    "\n",
    "epochs = 300\n",
    "\n",
    "es = EarlyStopping(monitor='val_accuracy', mode='max', verbose=1, patience=10, restore_best_weights=True)\n",
    "\n",
    "history = model.fit(\n",
    "          train_ds,\n",
    "          epochs=epochs,\n",
    "          validation_data = validation_ds,\n",
    "          callbacks = [es]\n",
    ")\n"
   ]
  },
  {
   "cell_type": "code",
   "execution_count": 9,
   "id": "8aac7a5f",
   "metadata": {
    "_cell_guid": "b1076dfc-b9ad-4769-8c92-a6c4dae69d19",
    "_uuid": "8f2839f25d086af736a60e9eeb907d3b93b6e0e5",
    "execution": {
     "iopub.execute_input": "2022-12-15T10:00:53.321779Z",
     "iopub.status.busy": "2022-12-15T10:00:53.321470Z",
     "iopub.status.idle": "2022-12-15T10:00:53.417960Z",
     "shell.execute_reply": "2022-12-15T10:00:53.417104Z"
    },
    "papermill": {
     "duration": 0.435663,
     "end_time": "2022-12-15T10:00:53.420518",
     "exception": false,
     "start_time": "2022-12-15T10:00:52.984855",
     "status": "completed"
    },
    "tags": []
   },
   "outputs": [],
   "source": [
    "# SAVING --------------------------------------------------\n",
    "\n",
    "model.save(\"mimodelo.h5\")"
   ]
  },
  {
   "cell_type": "markdown",
   "id": "ad1d7f0a",
   "metadata": {
    "papermill": {
     "duration": 0.225254,
     "end_time": "2022-12-15T10:00:53.874727",
     "exception": false,
     "start_time": "2022-12-15T10:00:53.649473",
     "status": "completed"
    },
    "tags": []
   },
   "source": [
    "#  **Evaluación de resultados**"
   ]
  },
  {
   "cell_type": "code",
   "execution_count": 10,
   "id": "baf9e78f",
   "metadata": {
    "execution": {
     "iopub.execute_input": "2022-12-15T10:00:54.344232Z",
     "iopub.status.busy": "2022-12-15T10:00:54.343938Z",
     "iopub.status.idle": "2022-12-15T10:00:56.789994Z",
     "shell.execute_reply": "2022-12-15T10:00:56.788680Z"
    },
    "papermill": {
     "duration": 2.68966,
     "end_time": "2022-12-15T10:00:56.792475",
     "exception": false,
     "start_time": "2022-12-15T10:00:54.102815",
     "status": "completed"
    },
    "tags": []
   },
   "outputs": [
    {
     "name": "stdout",
     "output_type": "stream",
     "text": [
      "              precision    recall  f1-score   support\n",
      "\n",
      "           0     1.0000    0.9753    0.9875        81\n",
      "           1     0.9677    0.9091    0.9375        66\n",
      "           2     0.9792    0.9792    0.9792        96\n",
      "           3     0.9359    0.9605    0.9481        76\n",
      "           4     0.9674    0.9889    0.9780        90\n",
      "           5     0.9783    1.0000    0.9890        90\n",
      "\n",
      "    accuracy                         0.9719       499\n",
      "   macro avg     0.9714    0.9688    0.9699       499\n",
      "weighted avg     0.9722    0.9719    0.9718       499\n",
      "\n"
     ]
    },
    {
     "data": {
      "image/png": "[encoded data removed]",
      "text/plain": [
       "<Figure size 432x288 with 2 Axes>"
      ]
     },
     "metadata": {
      "needs_background": "light"
     },
     "output_type": "display_data"
    }
   ],
   "source": [
    "import numpy as np\n",
    "from sklearn.metrics import classification_report, confusion_matrix, ConfusionMatrixDisplay\n",
    "import seaborn as sns\n",
    "\n",
    "results = np.concatenate([(y, model.predict(x=x)) for x, y in validation_ds], axis=1)\n",
    "\n",
    "labels = np.argmax(results[0], axis=1)\n",
    "predictions = np.argmax(results[1], axis=1)\n",
    "\n",
    "cf_matrix = confusion_matrix(labels, predictions)\n",
    "\n",
    "sns.heatmap(cf_matrix, annot=True, fmt=\"d\", cmap=\"Blues\")\n",
    "\n",
    "#disp = ConfusionMatrixDisplay(confusion_matrix=cf_matrix)\n",
    "#disp.plot()\n",
    "\n",
    "print(classification_report(labels, predictions, digits = 4))"
   ]
  },
  {
   "cell_type": "code",
   "execution_count": 11,
   "id": "3231de8c",
   "metadata": {
    "execution": {
     "iopub.execute_input": "2022-12-15T10:00:57.253881Z",
     "iopub.status.busy": "2022-12-15T10:00:57.253141Z",
     "iopub.status.idle": "2022-12-15T10:00:57.471556Z",
     "shell.execute_reply": "2022-12-15T10:00:57.470713Z"
    },
    "papermill": {
     "duration": 0.446825,
     "end_time": "2022-12-15T10:00:57.473476",
     "exception": false,
     "start_time": "2022-12-15T10:00:57.026651",
     "status": "completed"
    },
    "tags": []
   },
   "outputs": [
    {
     "data": {
      "image/png": "[encoded data removed]",
      "text/plain": [
       "<Figure size 432x288 with 1 Axes>"
      ]
     },
     "metadata": {
      "needs_background": "light"
     },
     "output_type": "display_data"
    }
   ],
   "source": [
    "from matplotlib import pyplot as plt \n",
    "\n",
    "plt.plot(history.history['accuracy'], label='accuracy')\n",
    "plt.plot(history.history['val_accuracy'], label='validation accuracy')\n",
    "plt.plot(history.history['loss'], label='loss')\n",
    "\n",
    "plt.title('Entrenamiento Chess-pieces')\n",
    "\n",
    "plt.xlabel('Épocas')\n",
    "plt.ylabel('Exactitud')\n",
    "plt.legend(loc=\"upper right\")\n",
    "\n",
    "plt.show()"
   ]
  },
  {
   "cell_type": "code",
   "execution_count": 12,
   "id": "cf15d30e",
   "metadata": {
    "execution": {
     "iopub.execute_input": "2022-12-15T10:00:57.940080Z",
     "iopub.status.busy": "2022-12-15T10:00:57.939753Z",
     "iopub.status.idle": "2022-12-15T10:00:58.373937Z",
     "shell.execute_reply": "2022-12-15T10:00:58.373232Z"
    },
    "papermill": {
     "duration": 0.676332,
     "end_time": "2022-12-15T10:00:58.375737",
     "exception": false,
     "start_time": "2022-12-15T10:00:57.699405",
     "status": "completed"
    },
    "tags": []
   },
   "outputs": [
    {
     "name": "stdout",
     "output_type": "stream",
     "text": [
      "(150, 150, 3)\n",
      "El vector de salida obtenido:  [[0.06823153 0.13291381 0.14408429 0.50173914 0.03149406 0.12153715]]\n",
      "La etiqueta de salida predicha es  3\n",
      "Ahora dicho con texto: La etiqueta de salida predicha es  Pawn\n"
     ]
    },
    {
     "data": {
      "image/png": "[encoded data removed]",
      "text/plain": [
       "<Figure size 432x288 with 1 Axes>"
      ]
     },
     "metadata": {
      "needs_background": "light"
     },
     "output_type": "display_data"
    }
   ],
   "source": [
    "# PRODUCTION ----------------------------------------------\n",
    "\n",
    "from matplotlib.pyplot import imshow\n",
    "import numpy as np\n",
    "from PIL import Image\n",
    "import tensorflow.keras\n",
    "\n",
    "# LOADING --------------------------------------------------\n",
    "#model = tensorflow.keras.models.load_model(\"mimodelo.h5\")\n",
    "\n",
    "etiquetas=['Bishop', 'King', 'Knight', 'Pawn', 'Queen', 'Rook']\n",
    "%matplotlib inline\n",
    "pil_im = Image.open('../input/datasetches2/DataSet-Chess/Test/King/00000003.jpg', 'r')\n",
    "im = np.asarray(pil_im.resize((150, 150)))\n",
    "imshow(im)\n",
    "print(im.shape) # La imagen es un array de dimensión: 150x150x3\n",
    "\n",
    "# El método `predict` hace la predicción de un lote de entradas, no solo una. \n",
    "# En el caso de que tengamos solo una entrada deberemos añadirle una dimensión más \n",
    "# al array numpy para que la entrada tenga la dimensión: 1x150x150x3\n",
    "\n",
    "im = im.reshape(1,150,150,3)\n",
    "\n",
    "\n",
    "print('El vector de salida obtenido: ', model.predict(im))\n",
    "print('La etiqueta de salida predicha es ', np.argmax(model.predict(im)))\n",
    "print('Ahora dicho con texto: La etiqueta de salida predicha es ', etiquetas[np.argmax(model.predict(im))])\n",
    "\n",
    "\n",
    "\n",
    "\n"
   ]
  },
  {
   "cell_type": "code",
   "execution_count": 13,
   "id": "9c42ee50",
   "metadata": {
    "execution": {
     "iopub.execute_input": "2022-12-15T10:00:58.840879Z",
     "iopub.status.busy": "2022-12-15T10:00:58.840568Z",
     "iopub.status.idle": "2022-12-15T10:01:00.160232Z",
     "shell.execute_reply": "2022-12-15T10:01:00.158691Z"
    },
    "papermill": {
     "duration": 1.553836,
     "end_time": "2022-12-15T10:01:00.162559",
     "exception": false,
     "start_time": "2022-12-15T10:00:58.608723",
     "status": "completed"
    },
    "tags": []
   },
   "outputs": [
    {
     "name": "stdout",
     "output_type": "stream",
     "text": [
      "ETIQUETA PREDICHA -> ETIQUETA REAL\n",
      "Knight -> Knight\n",
      "Rook -> Rook\n",
      "Knight -> Knight\n",
      "Bishop -> Bishop\n",
      "Bishop -> Bishop\n",
      "Rook -> Rook\n",
      "Pawn -> Pawn\n",
      "Rook -> Rook\n",
      "King -> King\n",
      "Knight -> Knight\n",
      "Rook -> Rook\n",
      "Rook -> Rook\n",
      "King -> King\n",
      "Knight -> Knight\n",
      "Rook -> Rook\n",
      "Bishop -> Bishop\n",
      "Knight -> Knight\n",
      "Queen -> Queen\n",
      "Queen -> Queen\n",
      "Rook -> Rook\n",
      "Bishop -> Bishop\n",
      "Rook -> Rook\n",
      "Pawn -> Pawn\n",
      "Pawn -> Pawn\n",
      "Rook -> Rook\n",
      "Knight -> Knight\n",
      "Bishop -> Bishop\n",
      "King -> King\n",
      "Rook -> Rook\n",
      "Queen -> Queen\n",
      "Pawn -> Pawn\n",
      "Queen -> Queen\n",
      "Queen -> Queen\n",
      "Knight -> Knight\n",
      "Knight -> Knight\n",
      "King -> King\n",
      "Knight -> Knight\n",
      "Bishop -> Bishop\n",
      "Queen -> Queen\n",
      "King -> King\n",
      "Queen -> Queen\n",
      "Knight -> Knight\n",
      "Bishop -> Bishop\n",
      "Pawn -> Pawn\n",
      "Rook -> Rook\n",
      "Knight -> Knight\n",
      "Rook -> Rook\n",
      "Knight -> Knight\n",
      "Pawn -> Pawn\n",
      "Bishop -> Bishop\n",
      "Rook -> Rook\n",
      "Queen -> Queen\n",
      "Queen -> Knight ✘\n",
      "Rook -> Rook\n",
      "Queen -> Queen\n",
      "Rook -> Rook\n",
      "Rook -> Rook\n",
      "Pawn -> King ✘\n",
      "Knight -> Knight\n",
      "Queen -> Queen\n",
      "Queen -> Queen\n",
      "King -> King\n",
      "Knight -> Knight\n",
      "Queen -> Queen\n",
      "Knight -> Knight\n",
      "Bishop -> Bishop\n",
      "Queen -> Queen\n",
      "Rook -> Rook\n",
      "Rook -> Rook\n",
      "Knight -> Knight\n",
      "Rook -> Rook\n",
      "King -> King\n",
      "Bishop -> Bishop\n",
      "Knight -> Knight\n",
      "Knight -> Knight\n",
      "King -> King\n",
      "King -> King\n",
      "Queen -> Queen\n",
      "Bishop -> Bishop\n",
      "King -> King\n",
      "Queen -> Queen\n",
      "Queen -> Queen\n",
      "Pawn -> Pawn\n",
      "King -> King\n",
      "Bishop -> Bishop\n",
      "Pawn -> Pawn\n",
      "Bishop -> Bishop\n",
      "Queen -> Queen\n",
      "Pawn -> Pawn\n",
      "Rook -> Rook\n",
      "Pawn -> Pawn\n",
      "Pawn -> Pawn\n",
      "Rook -> Rook\n",
      "Knight -> Knight\n",
      "King -> King\n",
      "Pawn -> Pawn\n",
      "King -> King\n",
      "Queen -> King ✘\n",
      "Bishop -> Bishop\n",
      "Knight -> Knight\n",
      "Pawn -> Pawn\n",
      "Queen -> Queen\n",
      "Knight -> Knight\n",
      "King -> King\n",
      "King -> Pawn ✘\n",
      "Bishop -> Bishop\n",
      "Rook -> Rook\n",
      "Bishop -> Bishop\n",
      "Knight -> Knight\n",
      "Knight -> Knight\n",
      "Pawn -> Pawn\n",
      "Pawn -> Pawn\n",
      "Queen -> Queen\n",
      "Rook -> Rook\n",
      "King -> King\n",
      "Bishop -> Bishop\n",
      "Rook -> Rook\n",
      "King -> King\n",
      "King -> King\n",
      "Pawn -> King ✘\n",
      "Queen -> Queen\n",
      "Knight -> Knight\n",
      "Knight -> Knight\n",
      "Bishop -> Bishop\n",
      "Knight -> Knight\n",
      "Pawn -> Pawn\n",
      "Pawn -> Pawn\n",
      "King -> King\n",
      "Rook -> Rook\n",
      "Rook -> Rook\n",
      "King -> King\n",
      "Rook -> Rook\n",
      "Queen -> Queen\n",
      "Rook -> King ✘\n",
      "King -> King\n",
      "Rook -> Rook\n",
      "Queen -> Queen\n",
      "Rook -> Rook\n",
      "Bishop -> Bishop\n",
      "Queen -> Queen\n",
      "King -> King\n",
      "Pawn -> Pawn\n",
      "King -> King\n",
      "Knight -> Knight\n",
      "Rook -> Rook\n",
      "Knight -> Knight\n",
      "Bishop -> Bishop\n",
      "Bishop -> Bishop\n",
      "Rook -> Rook\n",
      "Queen -> Queen\n",
      "Pawn -> Pawn\n",
      "Knight -> Knight\n",
      "Pawn -> Pawn\n",
      "Bishop -> Bishop\n",
      "King -> King\n",
      "King -> King\n",
      "Rook -> Rook\n",
      "Queen -> Queen\n",
      "Queen -> Queen\n",
      "Bishop -> Bishop\n",
      "Pawn -> Knight ✘\n",
      "Pawn -> Pawn\n",
      "Queen -> Queen\n",
      "Pawn -> Pawn\n",
      "Pawn -> Pawn\n",
      "Bishop -> Bishop\n",
      "King -> King\n",
      "Queen -> Queen\n",
      "Pawn -> Pawn\n",
      "Knight -> Knight\n",
      "Rook -> Rook\n",
      "Knight -> Knight\n",
      "King -> King\n",
      "Bishop -> Bishop\n",
      "Pawn -> Pawn\n",
      "Queen -> Queen\n",
      "Rook -> Rook\n",
      "Knight -> Knight\n",
      "Knight -> Knight\n",
      "Knight -> Knight\n",
      "Pawn -> Pawn\n",
      "Knight -> Knight\n",
      "Pawn -> Pawn\n",
      "Bishop -> Bishop\n",
      "Bishop -> Bishop\n",
      "Bishop -> Bishop\n",
      "King -> Pawn ✘\n",
      "Rook -> Rook\n",
      "Bishop -> Bishop\n",
      "Pawn -> King ✘\n",
      "Pawn -> Pawn\n",
      "Pawn -> Pawn\n",
      "Knight -> Knight\n",
      "Rook -> Rook\n",
      "Knight -> Knight\n",
      "Queen -> Queen\n",
      "Pawn -> Pawn\n",
      "Queen -> Queen\n",
      "Queen -> Queen\n",
      "King -> King\n",
      "Queen -> Queen\n",
      "Rook -> Rook\n",
      "Rook -> Rook\n",
      "Queen -> Queen\n",
      "Rook -> Rook\n",
      "Bishop -> Bishop\n",
      "Rook -> Rook\n",
      "Bishop -> Bishop\n",
      "Queen -> Queen\n",
      "Bishop -> Bishop\n",
      "Bishop -> Bishop\n",
      "Queen -> Queen\n",
      "King -> King\n",
      "Queen -> Queen\n",
      "Pawn -> Pawn\n",
      "Pawn -> Pawn\n",
      "Bishop -> Bishop\n",
      "Knight -> Knight\n",
      "Rook -> Rook\n",
      "Knight -> Bishop ✘\n",
      "Queen -> Queen\n",
      "King -> King\n",
      "Bishop -> Bishop\n",
      "Knight -> Knight\n",
      "Pawn -> Pawn\n",
      "Rook -> Rook\n"
     ]
    }
   ],
   "source": [
    "# PRODUCTION ----------------------------------------------\n",
    "\n",
    "#from matplotlib.pyplot import imshow\n",
    "import numpy as np\n",
    "#from PIL import Image\n",
    "import tensorflow.keras\n",
    "\n",
    "# SAVING --------------------------------------------------\n",
    "#model.save_model(\"mimodelo.h5\")\n",
    "\n",
    "\n",
    "# LOADING --------------------------------------------------\n",
    "#model = tensorflow.keras.models.load_model(\"mimodelo.h5\")\n",
    "\n",
    "etiquetas=['Bishop', 'King', 'Knight', 'Pawn', 'Queen', 'Rook']\n",
    "%matplotlib inline\n",
    "print(\"ETIQUETA PREDICHA -> ETIQUETA REAL\")\n",
    "for minilote in test_ds:\n",
    "    prediccion_minilote = model.predict(minilote[0].numpy())\n",
    "    etiqueta_real_minilote = minilote[1].numpy()\n",
    "    for y_predicha, y_real in zip(np.round(prediccion_minilote,3), etiqueta_real_minilote):\n",
    "        if np.argmax(y_predicha) == np.argmax(y_real):\n",
    "            print(etiquetas[np.argmax(y_predicha)], \"->\", etiquetas[np.argmax(y_real)])\n",
    "        else:\n",
    "            print(etiquetas[np.argmax(y_predicha)], \"->\", etiquetas[np.argmax(y_real)], \"✘\")"
   ]
  }
 ],
 "metadata": {
  "kernelspec": {
   "display_name": "Python 3",
   "language": "python",
   "name": "python3"
  },
  "language_info": {
   "codemirror_mode": {
    "name": "ipython",
    "version": 3
   },
   "file_extension": ".py",
   "mimetype": "text/x-python",
   "name": "python",
   "nbconvert_exporter": "python",
   "pygments_lexer": "ipython3",
   "version": "3.7.12"
  },
  "papermill": {
   "default_parameters": {},
   "duration": 162.527243,
   "end_time": "2022-12-15T10:01:03.471714",
   "environment_variables": {},
   "exception": null,
   "input_path": "__notebook__.ipynb",
   "output_path": "__notebook__.ipynb",
   "parameters": {},
   "start_time": "2022-12-15T09:58:20.944471",
   "version": "2.3.4"
  }
 },
 "nbformat": 4,
 "nbformat_minor": 5
}
